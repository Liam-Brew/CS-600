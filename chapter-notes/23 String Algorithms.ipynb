{
 "cells": [
  {
   "cell_type": "markdown",
   "metadata": {},
   "source": [
    "# Chapter 23: String Algorithms\n",
    "\n",
    "## String Operations\n",
    "\n",
    "There exist several common operations that are performed on strings:\n",
    "\n",
    "### Substrings\n",
    "\n",
    "Involve breaking the string down into smaller sequences\n",
    "\n",
    "Every string is a substring of itself, but not a proper substring\n",
    "\n",
    "### Pattern Matching\n",
    "\n",
    "Given a text string T of length n and a pattern string P of length m, find whether P is a substring of T. This notion of a match means that there is a substring of T starting at some index i that matches P, shown by P = T[i...i+m-1]\n",
    "\n",
    "### Brute-force Pattern Matching\n",
    "\n",
    "Enumerate all possible configurations of inputs and pick the best of these options. Very inefficient due to its $O(nm)$ running time\n",
    "\n",
    "## Boyer-Moore Algorithm"
   ]
  }
 ],
 "metadata": {
  "language_info": {
   "name": "plaintext"
  },
  "orig_nbformat": 4
 },
 "nbformat": 4,
 "nbformat_minor": 2
}

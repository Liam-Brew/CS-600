{
 "cells": [
  {
   "cell_type": "markdown",
   "metadata": {},
   "source": [
    "# Chapter 12: Dynamic Programming\n",
    "\n",
    "A longest common **subsequence** of two strings is the longest string that can be defined by selecting characters from each string in order in the respective strings, but not necessarily in a way that is contiguous. To calculate this normally requires a $O(n2^{2n})$ algorithm\n",
    "\n",
    "**Dynamic programming**: can solve this problem in a non-exponential way that is proportional to the product of their lengths\n",
    "\n",
    "## Matrix Chain Products\n",
    "\n",
    "Suppose that the product of a collection of n two-dimensional matrices is desired. This product is represented as: \n",
    "\n",
    "$$C[i,j] = \\sum_{k=0}^{e-1}A[i,k]*B[k,j]$$\n",
    "\n",
    "The above equation represents the (i,j) entry of the d\\*f matrix product C, where A is a d\\*e matrix and B is an e*f matrix\n",
    "\n",
    "**Matrix chan product problem**: determines the parenthesization of the expression defining the product A that minimizes the total number of scalar multiplications performed \n",
    "\n",
    "This problem may be split into multiple **sub-problems**. It is possible to characterize an optimal solution to a particular sub-problem in terms of optimal solutions to its own sub-problems, which is known as the **subproblem optimality** condition \n",
    "\n",
    "Given a chain product of n two-dimensional matrices, it is possible to compute a parenthesization of this chain that achieves the minimum number of scalar multiplications in $O(n^3)$ time via the following algorithm:\n",
    "\n",
    "![matrix-chain](./res/12-matrix-chain.PNG)\n",
    "\n",
    "## General Technique\n",
    "\n",
    "Dynamic programming may be applied to a problem that has the following three structural components:\n",
    "\n",
    "1. **simple sub-problems**: there must be a way of breaking the global optimization problem into sub-problems, each having a similar structure to the original problem\n",
    "2. **sub-problem optimality**: an optimal solution to the global problem must be a composition of optimal sub-problem solutions using a simple combining operation\n",
    "3. **sub-problem overlap**: optimal solutions to unrelated sub-problems can contain sub-problems in common\n",
    "\n",
    "**Memoization**: optimization that avoids repeated recursive calls by storing intermediate values\n",
    "\n",
    "## Longest Common Subsequence (LCS) Problem\n",
    "\n",
    "LCS lends itself well to simple sub-problems. Therefore, dynamic programming may be used in the following algorithm:\n",
    "\n",
    "![lcs](./res/12-lcs.PNG)\n",
    "\n",
    "This algorithm runs in $O(nm)$ times, with n being the iteration of the outer for loop and m being the iteration of the inner one\n",
    "\n",
    "## 0-1 Knapsack Problem\n",
    "\n",
    "This version of the knapsack problem does not facilitate fractional shares of items. Each sub-problem represents the computation of $B[k,w]$, which is the maximum total value of a subset of $S_k$ from among all those subsets having total weight of at most w. This is incorporated into the following algorithm: \n",
    "\n",
    "![knapsack01](./res/12-knapsack01.PNG)\n",
    "\n",
    "This algorithm runs in $O(nW)$ time, with n being the number of items in the set and W being the maximum weight. This is a **pseudo-polynomial-time** algorithm as its running time depends polynomially on the magnitude of a number given in the input, not its encoding size\n"
   ]
  }
 ],
 "metadata": {
  "language_info": {
   "name": "plaintext"
  },
  "orig_nbformat": 4
 },
 "nbformat": 4,
 "nbformat_minor": 2
}

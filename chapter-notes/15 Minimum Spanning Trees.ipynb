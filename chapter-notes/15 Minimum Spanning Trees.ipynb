{
 "cells": [
  {
   "cell_type": "markdown",
   "metadata": {},
   "source": [
    "# Chapter 15: Minimum Spanning Trees\n",
    "\n",
    "**Minimum Spanning Tree**: a free tree T of weighted graph G that contains all the vertices of G and has the minimum total weight over all such trees. Used by applications of the greedy method\n",
    "\n",
    "If e is an edge of G that is not in T, then the weight of e is at least as great as any edge in the cycle created by adding e to T\n",
    "\n",
    "Let $V_1$ and $V_2$ be a partition of the vertices of G into two disjoint nonempty sets. Furthermore, let e be an edge in G with minimum weight from among those with one endpoint in $V_1$ and the other in $V_2$. There is a minimum spanning tree T that has e as one of its edges\n",
    "\n",
    "## Kruskal's Algorithm\n",
    "\n",
    "Builds a minimum spanning tree using the above theorem:\n",
    "\n",
    "![kruskal](./res/15-kruskal.PNG)\n",
    "\n",
    "In a graph with n vertices and m edges, this algorithm constructs a minimum spanning tree in $O(mlogn) time\n",
    "\n",
    "## Prim-Jarnik Algorithm\n",
    "\n",
    "This algorithm grows a minimum spanning tree from a single cluster starting from some \"root\" vertex v:\n",
    "\n",
    "![prim-jarnik](./res/15-prim-jarnik.PNG)\n",
    "\n",
    "In a graph with n vertices and m edges, this algorithm constructs a minimum spanning tree in $O(mlogn) time\n",
    "\n",
    "## Baruvka's Algorithm\n",
    "\n",
    "In contrast to the former two algorithms, this one does not use a priority queue:\n",
    "\n",
    "![baruvka](./res/15-baruvka.PNG)\n",
    "\n",
    "In a graph with n vertices and m edges, this algorithm constructs a minimum spanning tree in $O(mlogn) time\n"
   ]
  }
 ],
 "metadata": {
  "language_info": {
   "name": "python"
  },
  "orig_nbformat": 4
 },
 "nbformat": 4,
 "nbformat_minor": 2
}

{
 "cells": [
  {
   "cell_type": "markdown",
   "metadata": {},
   "source": [
    "# Chapter 14: Shortest Paths\n",
    "\n",
    "**Weighted graphs** have a numerical label, w(e), associated with each edge\n",
    "\n",
    "## Dijkstra's Algorithm\n",
    "\n",
    "**Single-source shortest path**: length or weight of a path P in G is the sum of the weights and edges of P:\n",
    "\n",
    "$$w(P) = \\sum_{i=0}^{k-1}w(e_i)$$\n",
    "\n",
    "**Dijkstra's algorithm**: uses the greedy method to perform a \"weighted' breadth-first search starting at vertex v. The cost function that is to be minimized in this application of the greedy method is the shortest-path distance. This algorithm is as follows:\n",
    "\n",
    "![dijkstra](./res/14-dijkstra.PNG)\n",
    "\n",
    "Whenever a vertex u is pulled into the cloud, the label D[u] is equal to d(v,u), the length of a shortest path from v to u\n",
    "\n",
    "Dijkstra's algorithm may be implemented to take either $O(mlogn)$ time or $O(n^2)$ time. When to use which version depends on the sizes of m and n\n",
    "\n",
    "## Bellman-Ford Algorithm\n",
    "\n",
    "This algorithm may find shortest paths in graphs that have negative weights:\n",
    "\n",
    "![bellman-ford](./res/14-bellman-ford.PNG)\n",
    "\n",
    "This algorithm operates in $O(nm)$ time\n",
    "\n",
    "## Shortest Paths in Directed Acyclic Graphs\n",
    "\n",
    "The shortest path may be calculated in shorter time if the graph has no directed cycles. This may be accomplished through the following algorithm:\n",
    "\n",
    "![dag](./res/14-dag.PNG)\n",
    "\n",
    "This algorithm operates in $O(n+m)$ time\n"
   ]
  }
 ],
 "metadata": {
  "language_info": {
   "name": "python"
  },
  "orig_nbformat": 4
 },
 "nbformat": 4,
 "nbformat_minor": 2
}
